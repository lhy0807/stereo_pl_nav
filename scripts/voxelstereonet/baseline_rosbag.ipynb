{
 "cells": [
  {
   "cell_type": "code",
   "execution_count": null,
   "id": "987d1643-eb5e-4577-83bc-8183d7b9a95c",
   "metadata": {},
   "outputs": [],
   "source": [
    "from __future__ import print_function, division\n",
    "import os\n",
    "import argparse\n",
    "import torch.nn as nn\n",
    "from skimage import io\n",
    "import torch.backends.cudnn as cudnn\n",
    "from torch.utils.data import DataLoader\n",
    "from utils import *\n",
    "from utils.KittiColormap import *\n",
    "from pyntcloud import PyntCloud\n",
    "import pandas as pd\n",
    "from cv_bridge import CvBridge\n",
    "import cv2\n",
    "import matplotlib.pyplot as plt\n",
    "from datasets.data_io import get_transform"
   ]
  },
  {
   "cell_type": "markdown",
   "id": "2fcb4982",
   "metadata": {},
   "source": [
    "## Load Data from rosbag"
   ]
  },
  {
   "cell_type": "code",
   "execution_count": null,
   "id": "81920108",
   "metadata": {},
   "outputs": [],
   "source": [
    "import rosbag\n",
    "bag = rosbag.Bag('zed.bag')\n",
    "topics = [\"/zed2/zed_node/left/camera_info\",\"/zed2/zed_node/left/image_rect_color\", \"/zed2/zed_node/right/camera_info\",\"/zed2/zed_node/right/image_rect_color\"]"
   ]
  },
  {
   "cell_type": "code",
   "execution_count": null,
   "id": "a0f03b8a",
   "metadata": {},
   "outputs": [],
   "source": [
    "left_image_raw = None\n",
    "left_camera_info = None\n",
    "right_image_raw = None\n",
    "right_camera_info = None\n",
    "counter = 0\n",
    "for topic, msg, t in bag.read_messages(topics=topics):\n",
    "    if counter > 0:\n",
    "        counter -= 1\n",
    "        continue\n",
    "    if (left_image_raw is not None) and (left_camera_info is not None) and (right_image_raw is not None) and (right_camera_info is not None):\n",
    "        break\n",
    "    if topic == \"/zed2/zed_node/left/image_rect_color\":\n",
    "        left_image_raw = msg\n",
    "    elif topic == \"/zed2/zed_node/left/camera_info\":\n",
    "        left_camera_info = msg\n",
    "    elif topic == \"/zed2/zed_node/right/image_rect_color\":\n",
    "        right_image_raw = msg\n",
    "    elif topic == \"/zed2/zed_node/right/camera_info\":\n",
    "        right_camera_info = msg"
   ]
  },
  {
   "cell_type": "code",
   "execution_count": null,
   "id": "b9070c77",
   "metadata": {},
   "outputs": [],
   "source": [
    "left_camera_info"
   ]
  },
  {
   "cell_type": "code",
   "execution_count": null,
   "id": "76be79c2",
   "metadata": {},
   "outputs": [],
   "source": [
    "right_camera_info"
   ]
  },
  {
   "cell_type": "code",
   "execution_count": null,
   "id": "95574525",
   "metadata": {},
   "outputs": [],
   "source": [
    "bridge = CvBridge()\n",
    "left_image = bridge.imgmsg_to_cv2(left_image_raw, desired_encoding='bgr8')\n",
    "left_frame = cv2.cvtColor(left_image, cv2.COLOR_BGR2RGB)\n",
    "left_frame = left_frame[40:,...]\n",
    "plt.imshow(left_frame)\n",
    "left_depth_rgb = left_frame[:, :, :3]\n",
    "depth_rgb = np.transpose(left_depth_rgb, (2, 0, 1))"
   ]
  },
  {
   "cell_type": "code",
   "execution_count": null,
   "id": "5e4d492b",
   "metadata": {},
   "outputs": [],
   "source": [
    "left_frame.shape"
   ]
  },
  {
   "cell_type": "code",
   "execution_count": null,
   "id": "fb64b021",
   "metadata": {},
   "outputs": [],
   "source": [
    "right_image = bridge.imgmsg_to_cv2(right_image_raw, desired_encoding='bgr8')\n",
    "right_frame = cv2.cvtColor(right_image, cv2.COLOR_BGR2RGB)\n",
    "right_frame = right_frame[40:,...]\n",
    "plt.imshow(right_frame)\n",
    "right_depth_rgb = right_frame[:, :, :3]"
   ]
  },
  {
   "cell_type": "code",
   "execution_count": null,
   "id": "0c8dbcb7",
   "metadata": {},
   "outputs": [],
   "source": [
    "left_image.shape"
   ]
  },
  {
   "cell_type": "code",
   "execution_count": null,
   "id": "66fe0e3b",
   "metadata": {},
   "outputs": [],
   "source": [
    "plt.imshow(cv2.cvtColor(left_frame, cv2.COLOR_BGR2GRAY), 'gray')\n",
    "plt.show()\n",
    "plt.imshow(cv2.cvtColor(right_frame, cv2.COLOR_BGR2GRAY), 'gray')\n",
    "plt.show()\n",
    "stereo = cv2.StereoSGBM_create(numDisparities=128, blockSize=11)\n",
    "disparity = stereo.compute(cv2.cvtColor(left_frame, cv2.COLOR_BGR2GRAY),cv2.cvtColor(right_frame, cv2.COLOR_BGR2GRAY))\n",
    "plt.imshow(disparity,'plasma')"
   ]
  },
  {
   "cell_type": "code",
   "execution_count": null,
   "id": "fa8d33c2-68f5-4b87-9113-d1cf53df6ad5",
   "metadata": {
    "jupyter": {
     "outputs_hidden": true
    },
    "tags": []
   },
   "outputs": [],
   "source": [
    "from models.MSNet3D import MSNet3D\n",
    "model = MSNet3D(192)\n",
    "model = nn.DataParallel(model)\n",
    "model.cuda()"
   ]
  },
  {
   "cell_type": "code",
   "execution_count": null,
   "id": "3f653db9-0d87-44d7-bd56-0fde6eac6cfb",
   "metadata": {},
   "outputs": [],
   "source": [
    "ckpt_path = \"MSNet3D_SF_DS_KITTI2015.ckpt\"\n",
    "print(\"Loading model {}\".format(ckpt_path))\n",
    "state_dict = torch.load(ckpt_path)\n",
    "model.load_state_dict(state_dict['model'])"
   ]
  },
  {
   "cell_type": "code",
   "execution_count": null,
   "id": "5e10da51-5115-407f-a285-1abc8cd20e1a",
   "metadata": {},
   "outputs": [],
   "source": [
    "# Camera intrinsics and extrinsics\n",
    "c_u = right_camera_info.P[2]\n",
    "c_v = right_camera_info.P[6]\n",
    "f_u = right_camera_info.P[0]\n",
    "f_v = right_camera_info.P[5]\n",
    "b_x = right_camera_info.P[3] / (-f_u)  # relative\n",
    "b_y = right_camera_info.P[7] / (-f_v)"
   ]
  },
  {
   "cell_type": "code",
   "execution_count": null,
   "id": "9be618b2",
   "metadata": {},
   "outputs": [],
   "source": [
    "left_frame.shape"
   ]
  },
  {
   "cell_type": "code",
   "execution_count": null,
   "id": "9da55097-1820-44cb-90ec-1a7e521b09ac",
   "metadata": {
    "scrolled": false
   },
   "outputs": [],
   "source": [
    "import matplotlib.pyplot as plt\n",
    "processed = get_transform()\n",
    "h,w,_ = left_frame.shape\n",
    "\n",
    "sample_left = processed(left_frame).numpy()\n",
    "sample_right = processed(right_frame).numpy()\n",
    "\n",
    "model.eval()\n",
    "plt.imshow(np.transpose(sample_left, (1,2,0)))\n",
    "plt.show()\n",
    "plt.imshow(np.transpose(sample_right, (1,2,0)))\n",
    "plt.show()\n",
    "\n",
    "sample_left = torch.Tensor(sample_left)\n",
    "sample_right = torch.Tensor(sample_right)\n",
    "\n",
    "sample_left = torch.unsqueeze(sample_left, dim=0)\n",
    "sample_right = torch.unsqueeze(sample_right, dim=0)\n",
    "\n",
    "with torch.no_grad():\n",
    "    disp_est_tn = model(sample_left.cuda(), sample_right.cuda())[0]\n",
    "    disp_est_np = tensor2numpy(disp_est_tn)\n",
    "    disp_est = np.array(disp_est_np[0], dtype=np.float32)\n",
    "    plt.imshow(kitti_colormap(disp_est))\n",
    "    plt.show()\n",
    "    disp_est[disp_est < 0] = 0\n",
    "#             baseline = 0.54\n",
    "    baseline = b_x\n",
    "    mask = disp_est > 0\n",
    "    depth = f_u * baseline / (disp_est + 1. - mask)\n",
    "    plt.imshow(depth, cmap=\"plasma\")\n",
    "    plt.show()"
   ]
  },
  {
   "cell_type": "raw",
   "id": "8d706b54",
   "metadata": {},
   "source": [
    "with torch.no_grad():\n",
    "    %timeit -n 10 model(sample['left'].cuda(), sample['right'].cuda())"
   ]
  },
  {
   "cell_type": "code",
   "execution_count": null,
   "id": "5946cd6d-0bac-426f-8a25-5dcdbbb24fc5",
   "metadata": {},
   "outputs": [],
   "source": [
    "def project_image_to_rect(uv_depth):\n",
    "    ''' Input: nx3 first two channels are uv, 3rd channel\n",
    "               is depth in rect camera coord.\n",
    "        Output: nx3 points in rect camera coord.\n",
    "    '''\n",
    "    n = uv_depth.shape[0]\n",
    "    x = ((uv_depth[:, 0] - c_u) * uv_depth[:, 2]) / f_u + b_x\n",
    "    y = ((uv_depth[:, 1] - c_v) * uv_depth[:, 2]) / f_v + b_y\n",
    "    pts_3d_rect = np.zeros((n, 3))\n",
    "    pts_3d_rect[:, 0] = x\n",
    "    pts_3d_rect[:, 1] = y\n",
    "    pts_3d_rect[:, 2] = uv_depth[:, 2]\n",
    "    return pts_3d_rect\n",
    "\n",
    "def project_image_to_velo(uv_depth):\n",
    "    pts_3d_rect = project_image_to_rect(uv_depth)\n",
    "    return pts_3d_rect\n",
    "\n",
    "rows, cols = depth.shape\n",
    "c, r = np.meshgrid(np.arange(cols), np.arange(rows))\n",
    "points = np.stack([c, r, depth])\n",
    "points = points.reshape((3, -1))\n",
    "points = points.T\n",
    "points = points[mask.reshape(-1)]\n",
    "cloud = project_image_to_velo(points)\n",
    "points_rgb = depth_rgb.reshape((3, -1)).T\n",
    "points_rgb = points_rgb.astype(float)\n",
    "points_rgb /= 255."
   ]
  },
  {
   "cell_type": "code",
   "execution_count": null,
   "id": "6d386ade",
   "metadata": {},
   "outputs": [],
   "source": [
    "import open3d as o3d\n",
    "\n",
    "# Pass xyz to Open3D.o3d.geometry.PointCloud and visualize\n",
    "rgbd_pcd = o3d.geometry.PointCloud()\n",
    "rgbd_pcd.points = o3d.utility.Vector3dVector(cloud)\n",
    "rgbd_pcd.colors = o3d.utility.Vector3dVector(points_rgb)\n",
    "o3d.io.write_point_cloud(\"zed.ply\", rgbd_pcd)\n",
    "# rgbd_pcd.paint_uniform_color([1, 0, 0])\n",
    "\n",
    "# o3d.visualization.draw_geometries([rgbd_pcd],   zoom=0.2599999999999999,\n",
    "#                                   front=[ 0.19301789659159738, 0.01043594041367546, -0.98113973660383247 ],\n",
    "#                                   lookat=[ 0.88825355771643766, -0.41312419439599624, 1.606628786781968 ],\n",
    "#                                   up=[ 0.03817028674385195, -0.99926637964116372, -0.0031195718831270019 ])"
   ]
  },
  {
   "cell_type": "code",
   "execution_count": null,
   "id": "e4d77439",
   "metadata": {},
   "outputs": [],
   "source": [
    "# Pass xyz to Open3D.o3d.geometry.PointCloud and visualize\n",
    "#zed_pcd = o3d.io.read_point_cloud(\"zed_point.ply\", format=\"ply\")\n",
    "#o3d.visualization.draw_geometries([zed_pcd],   zoom=0.2599999999999999,\n",
    "#                                  front=[ 0.19301789659159738, 0.01043594041367546, -0.98113973660383247 ],\n",
    "#                                  lookat=[ 0.88825355771643766, -0.41312419439599624, 1.606628786781968 ],\n",
    "#                                  up=[ 0.03817028674385195, -0.99926637964116372, -0.0031195718831270019 ])"
   ]
  },
  {
   "cell_type": "code",
   "execution_count": null,
   "id": "f626dc47",
   "metadata": {},
   "outputs": [],
   "source": [
    "rgbd_voxel_grid = o3d.geometry.VoxelGrid.create_from_point_cloud(rgbd_pcd,\n",
    "                                                            voxel_size=0.5)"
   ]
  },
  {
   "cell_type": "code",
   "execution_count": null,
   "id": "6f99783f",
   "metadata": {},
   "outputs": [],
   "source": [
    "cloud.shape"
   ]
  },
  {
   "cell_type": "code",
   "execution_count": null,
   "id": "ff3c2a12",
   "metadata": {},
   "outputs": [],
   "source": [
    "rgbd_voxel_grid"
   ]
  },
  {
   "cell_type": "code",
   "execution_count": null,
   "id": "9feb6d22",
   "metadata": {},
   "outputs": [],
   "source": [
    "rgbd_voxel_grid.get_min_bound()"
   ]
  },
  {
   "cell_type": "code",
   "execution_count": null,
   "id": "5aeaf136",
   "metadata": {},
   "outputs": [],
   "source": [
    "rgbd_voxel_grid.get_max_bound()"
   ]
  },
  {
   "cell_type": "code",
   "execution_count": null,
   "id": "4b9c3a7f",
   "metadata": {},
   "outputs": [],
   "source": [
    "min_mask = cloud >= [-1.2,-1.0,0.0]\n",
    "min_mask = min_mask[:, 0] & min_mask[:, 1] & min_mask[:, 2]\n",
    "max_mask = cloud <= [1.2,0.2,2.4]\n",
    "max_mask = max_mask[:, 0] & max_mask[:, 1] & max_mask[:, 2]\n",
    "filter_mask = min_mask & max_mask\n",
    "filtered_cloud = cloud[filter_mask]\n",
    "print(filtered_cloud.shape)"
   ]
  },
  {
   "cell_type": "code",
   "execution_count": null,
   "id": "73765b6f",
   "metadata": {},
   "outputs": [],
   "source": [
    "# point_cloud_np = np.asarray([voxel_grid.origin + pt.grid_index*voxel_grid.voxel_size for pt in voxel_grid.get_voxels()])"
   ]
  },
  {
   "cell_type": "code",
   "execution_count": null,
   "id": "ace82a8a",
   "metadata": {},
   "outputs": [],
   "source": [
    "filtered_cloud"
   ]
  },
  {
   "cell_type": "code",
   "execution_count": null,
   "id": "185b11c3",
   "metadata": {},
   "outputs": [],
   "source": [
    "voxel_size = 0.05 \n",
    "xyz_q = np.floor(np.array(filtered_cloud/voxel_size)).astype(int) # quantized point values, here you will loose precision\n",
    "\n",
    "vox_grid = np.zeros((int(2.4/voxel_size)+1, int(1.2/voxel_size)+1, int(2.4/voxel_size)+1)) #Empty voxel grid"
   ]
  },
  {
   "cell_type": "code",
   "execution_count": null,
   "id": "65691ddb",
   "metadata": {},
   "outputs": [],
   "source": [
    "xyz_q"
   ]
  },
  {
   "cell_type": "code",
   "execution_count": null,
   "id": "e4e9c446",
   "metadata": {},
   "outputs": [],
   "source": [
    "offsets = np.array([-xyz_q[:,0].min(), -xyz_q[:,1].min(), -xyz_q[:,2].min()])\n",
    "print(offsets)"
   ]
  },
  {
   "cell_type": "code",
   "execution_count": null,
   "id": "c9442b36",
   "metadata": {},
   "outputs": [],
   "source": [
    "xyz_offset_q = xyz_q+offsets"
   ]
  },
  {
   "cell_type": "code",
   "execution_count": null,
   "id": "8c79a2b0",
   "metadata": {},
   "outputs": [],
   "source": [
    "xyz_offset_q"
   ]
  },
  {
   "cell_type": "code",
   "execution_count": null,
   "id": "40013f38",
   "metadata": {},
   "outputs": [],
   "source": [
    "vox_grid[xyz_offset_q[:,0],xyz_offset_q[:,1],xyz_offset_q[:,2]] = 1 # Setting all voxels containitn a points equal to 1\n",
    "\n",
    "xyz_v = np.asarray(np.where(vox_grid == 1)) # get back indexes of populated voxels\n",
    "empty_xyz_v = np.asarray(np.where(vox_grid == 0))"
   ]
  },
  {
   "cell_type": "code",
   "execution_count": null,
   "id": "2643dd5b",
   "metadata": {},
   "outputs": [],
   "source": [
    "xyz_v"
   ]
  },
  {
   "cell_type": "code",
   "execution_count": null,
   "id": "1c68c063",
   "metadata": {},
   "outputs": [],
   "source": [
    "cloud_np = np.asarray([(pt-offsets)*voxel_size for pt in xyz_v.T])\n",
    "empty_cloud_np = np.asarray([(pt-offsets)*voxel_size for pt in empty_xyz_v.T])\n",
    "print(empty_cloud_np)"
   ]
  },
  {
   "cell_type": "code",
   "execution_count": null,
   "id": "4b8753c9",
   "metadata": {},
   "outputs": [],
   "source": [
    "empty_cloud_np.min()"
   ]
  },
  {
   "cell_type": "code",
   "execution_count": null,
   "id": "8eb4e433",
   "metadata": {},
   "outputs": [],
   "source": [
    "np_pcd = o3d.geometry.PointCloud()\n",
    "np_pcd.points = o3d.utility.Vector3dVector(cloud_np)\n",
    "np_pcd.paint_uniform_color([0.7, 0, 0])\n",
    "\n",
    "empty_np_pcd = o3d.geometry.PointCloud()\n",
    "empty_np_pcd.points = o3d.utility.Vector3dVector(empty_cloud_np)\n",
    "empty_np_pcd.paint_uniform_color([0.0, 0.7, 0])\n",
    "\n",
    "unit_np_pcd = o3d.geometry.PointCloud()\n",
    "unit_np_pcd.points = o3d.utility.Vector3dVector(np.array([[0.0, 0.0, 0.0],[0.0, 2.5, 0.0],[0.0, -1.0, 0.0]]))\n",
    "unit_np_pcd.paint_uniform_color([0.0, 0.0, 1.0])"
   ]
  },
  {
   "cell_type": "code",
   "execution_count": null,
   "id": "29e84eb5",
   "metadata": {},
   "outputs": [],
   "source": [
    "o3d.visualization.draw_geometries([rgbd_pcd, np_pcd], zoom=0.65999999999999992,\n",
    "                                  front=[ -0.014497331658126618, -0.12180282531039557, -0.99244843650499026 ],\n",
    "                                  lookat=[ 0.48829133058982988, -0.41076821248406992, 2.5847910404205323 ],\n",
    "                                  up=[ 0.037670557241263204, -0.99191462942433895, 0.1211870333456067 ])"
   ]
  },
  {
   "cell_type": "code",
   "execution_count": null,
   "id": "923eb535",
   "metadata": {},
   "outputs": [],
   "source": []
  }
 ],
 "metadata": {
  "kernelspec": {
   "display_name": "Python 3 (ipykernel)",
   "language": "python",
   "name": "python3"
  },
  "language_info": {
   "codemirror_mode": {
    "name": "ipython",
    "version": 3
   },
   "file_extension": ".py",
   "mimetype": "text/x-python",
   "name": "python",
   "nbconvert_exporter": "python",
   "pygments_lexer": "ipython3",
   "version": "3.8.10"
  }
 },
 "nbformat": 4,
 "nbformat_minor": 5
}
